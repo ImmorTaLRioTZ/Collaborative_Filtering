{
 "cells": [
  {
   "cell_type": "code",
   "execution_count": 1,
   "id": "2aa6523e",
   "metadata": {},
   "outputs": [],
   "source": [
    "import pandas as pd\n",
    "import numpy as np\n",
    "import tensorflow as tf"
   ]
  },
  {
   "cell_type": "code",
   "execution_count": 2,
   "id": "011de474",
   "metadata": {},
   "outputs": [],
   "source": [
    "def cofi_cost_func_v(X, W, b, Y, R, lambda_):\n",
    "    \"\"\"\n",
    "    Returns the cost for the content-based filtering\n",
    "    Vectorized for speed. Uses tensorflow operations to be compatible with custom training loop.\n",
    "    Args:\n",
    "      X (ndarray (num_movies,num_features)): matrix of item features\n",
    "      W (ndarray (num_users,num_features)) : matrix of user parameters\n",
    "      b (ndarray (1, num_users)            : vector of user parameters\n",
    "      Y (ndarray (num_movies,num_users)    : matrix of user ratings of movies\n",
    "      R (ndarray (num_movies,num_users)    : matrix, where R(i, j) = 1 if the i-th movies was rated by the j-th user\n",
    "      lambda_ (float): regularization parameter\n",
    "    Returns:\n",
    "      J (float) : Cost\n",
    "    \"\"\"\n",
    "    j = (tf.linalg.matmul(X, tf.transpose(W)) + b - Y)*R\n",
    "    J = 0.5 * tf.reduce_sum(j**2) + (lambda_/2) * (tf.reduce_sum(X**2) + tf.reduce_sum(W**2))\n",
    "    return J"
   ]
  },
  {
   "cell_type": "code",
   "execution_count": 3,
   "id": "f246f5c9",
   "metadata": {},
   "outputs": [],
   "source": [
    "movies = pd.read_csv(r'movies.csv')\n",
    "ratings = pd.read_csv(r'ratings.csv')"
   ]
  },
  {
   "cell_type": "code",
   "execution_count": 4,
   "id": "ed28ddec",
   "metadata": {},
   "outputs": [
    {
     "name": "stdout",
     "output_type": "stream",
     "text": [
      "610 9742\n"
     ]
    }
   ],
   "source": [
    "nu = len(ratings['userId'].unique())#number of unique users\n",
    "nm = len(movies['movieId'].unique())#number of unique movies\n",
    "print(nu, nm)"
   ]
  },
  {
   "cell_type": "code",
   "execution_count": 5,
   "id": "be10c0e2",
   "metadata": {},
   "outputs": [],
   "source": [
    "# Step 1: Get full list of movieIds\n",
    "all_movie_ids = movies['movieId'].unique()\n",
    "\n",
    "# Step 2: Pivot ratings\n",
    "rates = ratings.pivot(index='movieId', columns='userId', values='rating')\n",
    "\n",
    "# Step 3: Reindex to include all movieIds (adds NaNs for missing movies)\n",
    "rates = rates.reindex(all_movie_ids)\n",
    "\n",
    "# Optional: reset index (so movieId is a column)\n",
    "rates = rates.reset_index()\n",
    "\n",
    "# Step 2: Add genre columns (get dummies) from movies\n",
    "genres = movies[['movieId', 'genres']].copy()\n",
    "genre_dummies = genres['genres'].str.get_dummies(sep='|')\n",
    "genre_dummies = genre_dummies.drop(columns=['(no genres listed)'], errors='ignore')  # skip if not present\n",
    "\n",
    "# Combine movieId with genre columns\n",
    "genres_df = pd.concat([genres['movieId'], genre_dummies], axis=1)\n",
    "\n",
    "# Step 3: Merge with the pivoted ratings\n",
    "final_df = pd.merge(rates.reset_index(), genres_df, on='movieId')"
   ]
  },
  {
   "cell_type": "code",
   "execution_count": 7,
   "id": "6294f6fe",
   "metadata": {},
   "outputs": [],
   "source": [
    "rates = final_df"
   ]
  },
  {
   "cell_type": "code",
   "execution_count": 8,
   "id": "0e6436cf",
   "metadata": {},
   "outputs": [],
   "source": [
    "genre_list = genre_dummies.columns.tolist()\n",
    "k = len(genre_list)  # Number of genres\n",
    "genre_list.extend(['movieId', 'index'])  # Add movieId to the genre list\n",
    "num_df = rates.drop(columns=genre_list)\n",
    "num_df = np.array(num_df, dtype = np.float64)\n"
   ]
  },
  {
   "cell_type": "code",
   "execution_count": 9,
   "id": "daff3b35",
   "metadata": {},
   "outputs": [
    {
     "data": {
      "text/plain": [
       "array([[4. , nan, nan, ..., 2.5, 3. , 5. ],\n",
       "       [nan, nan, nan, ..., 2. , nan, nan],\n",
       "       [4. , nan, nan, ..., 2. , nan, nan],\n",
       "       ...,\n",
       "       [nan, nan, nan, ..., nan, nan, nan],\n",
       "       [nan, nan, nan, ..., nan, nan, nan],\n",
       "       [nan, nan, nan, ..., nan, nan, nan]])"
      ]
     },
     "execution_count": 9,
     "metadata": {},
     "output_type": "execute_result"
    }
   ],
   "source": [
    "num_df"
   ]
  },
  {
   "cell_type": "code",
   "execution_count": 10,
   "id": "63b50ff7",
   "metadata": {},
   "outputs": [
    {
     "name": "stderr",
     "output_type": "stream",
     "text": [
      "C:\\Users\\monor\\AppData\\Local\\Temp\\ipykernel_1644\\2491380015.py:2: RuntimeWarning: Mean of empty slice\n",
      "  mean_ratings = np.nanmean(num_df, axis=1)\n"
     ]
    }
   ],
   "source": [
    "#mean normalsation part\n",
    "mean_ratings = np.nanmean(num_df, axis=1)\n",
    "mean_ratings = np.nan_to_num(mean_ratings, copy=False, nan=0.0)\n",
    "mean_ratings = mean_ratings.reshape(-1, 1)  # Reshape to a column vector\n",
    "num_df = np.nan_to_num(num_df, copy=False,  nan=0.0)\n",
    "normalised = num_df - mean_ratings\n",
    "Y=normalised"
   ]
  },
  {
   "cell_type": "code",
   "execution_count": 11,
   "id": "935f61ac",
   "metadata": {},
   "outputs": [],
   "source": [
    "tf.random.set_seed(1234)\n",
    "#movie seen or not\n",
    "R = np.array(num_df > 0, dtype = np.int32)\n",
    "#X parameter\n",
    "X = tf.Variable(tf.random.normal(shape=(Y.shape[0], k), dtype=tf.float64), name='X')\n",
    "#W parameter\n",
    "W = tf.Variable(tf.random.normal(shape=(nu, k), dtype=tf.float64), name='W')\n",
    "#b parameter\n",
    "b = tf.Variable(tf.zeros(shape=(1, nu), dtype = tf.float64), name='b')"
   ]
  },
  {
   "cell_type": "code",
   "execution_count": 12,
   "id": "de67738e",
   "metadata": {},
   "outputs": [
    {
     "name": "stdout",
     "output_type": "stream",
     "text": [
      "X: (9742, 19)\n",
      "W: (610, 19)\n",
      "b: (1, 610)\n",
      "Y: (9742, 610)\n",
      "R: (9742, 610)\n"
     ]
    }
   ],
   "source": [
    "print(\"X:\", X.shape)\n",
    "print(\"W:\", W.shape)\n",
    "print(\"b:\", b.shape)\n",
    "print(\"Y:\", Y.shape)\n",
    "print(\"R:\", R.shape)"
   ]
  },
  {
   "cell_type": "code",
   "execution_count": 13,
   "id": "cd9624b3",
   "metadata": {},
   "outputs": [],
   "source": [
    "optimiser = tf.keras.optimizers.Adam(learning_rate=0.1)"
   ]
  },
  {
   "cell_type": "code",
   "execution_count": 14,
   "id": "b35e138c",
   "metadata": {},
   "outputs": [
    {
     "name": "stdout",
     "output_type": "stream",
     "text": [
      "Training loss at iteration 0:1027601.5322\n",
      "Training loss at iteration 20:47128.7672\n",
      "Training loss at iteration 40:27257.2680\n",
      "Training loss at iteration 60:19142.1986\n",
      "Training loss at iteration 80:15092.5671\n",
      "Training loss at iteration 100:12879.7148\n",
      "Training loss at iteration 120:11543.6053\n",
      "Training loss at iteration 140:10681.8778\n",
      "Training loss at iteration 160:10105.8072\n",
      "Training loss at iteration 180:9710.3778\n",
      "Training loss at iteration 200:9429.1992\n",
      "Training loss at iteration 220:9220.3319\n",
      "Training loss at iteration 240:9059.9701\n",
      "Training loss at iteration 260:8933.5466\n",
      "Training loss at iteration 280:8831.5898\n",
      "Training loss at iteration 300:8747.5675\n",
      "Training loss at iteration 320:8677.2777\n",
      "Training loss at iteration 340:8617.4582\n",
      "Training loss at iteration 360:8565.9214\n",
      "Training loss at iteration 380:8520.2692\n",
      "Training loss at iteration 400:8479.5113\n",
      "Training loss at iteration 420:8442.2896\n",
      "Training loss at iteration 440:8407.6691\n",
      "Training loss at iteration 460:8375.5435\n",
      "Training loss at iteration 480:8345.5308\n",
      "Training loss at iteration 500:8318.3885\n",
      "Training loss at iteration 520:8293.5647\n",
      "Training loss at iteration 540:8271.4627\n",
      "Training loss at iteration 560:8251.6222\n",
      "Training loss at iteration 580:8233.2696\n",
      "Training loss at iteration 600:8217.3273\n",
      "Training loss at iteration 620:8202.0178\n",
      "Training loss at iteration 640:8187.8678\n",
      "Training loss at iteration 660:8174.6721\n",
      "Training loss at iteration 680:8162.8550\n",
      "Training loss at iteration 700:8150.7333\n",
      "Training loss at iteration 720:8139.8245\n",
      "Training loss at iteration 740:8128.9871\n",
      "Training loss at iteration 760:8118.2598\n",
      "Training loss at iteration 780:8108.3805\n",
      "Training loss at iteration 800:8098.9210\n",
      "Training loss at iteration 820:8089.9691\n",
      "Training loss at iteration 840:8081.5323\n",
      "Training loss at iteration 860:8073.0867\n",
      "Training loss at iteration 880:8064.4396\n",
      "Training loss at iteration 900:8056.5968\n",
      "Training loss at iteration 920:8049.1320\n",
      "Training loss at iteration 940:8041.4258\n",
      "Training loss at iteration 960:8033.4922\n",
      "Training loss at iteration 980:8027.4360\n",
      "Training loss at iteration 1000:8018.9545\n",
      "Training loss at iteration 1020:8011.7940\n",
      "Training loss at iteration 1040:8004.4528\n",
      "Training loss at iteration 1060:7997.2406\n",
      "Training loss at iteration 1080:7990.8864\n",
      "Training loss at iteration 1100:7984.2711\n",
      "Training loss at iteration 1120:7978.8463\n",
      "Training loss at iteration 1140:7972.6590\n",
      "Training loss at iteration 1160:7968.2106\n",
      "Training loss at iteration 1180:7962.9199\n",
      "Training loss at iteration 1200:7959.2115\n",
      "Training loss at iteration 1220:7955.5554\n",
      "Training loss at iteration 1240:7950.3438\n",
      "Training loss at iteration 1260:7947.1866\n",
      "Training loss at iteration 1280:7944.7349\n",
      "Training loss at iteration 1300:7939.0860\n",
      "Training loss at iteration 1320:7938.2420\n",
      "Training loss at iteration 1340:7933.5588\n",
      "Training loss at iteration 1360:7929.6554\n",
      "Training loss at iteration 1380:7925.1058\n",
      "Training loss at iteration 1400:7923.3990\n",
      "Training loss at iteration 1420:7918.4615\n",
      "Training loss at iteration 1440:7915.6379\n",
      "Training loss at iteration 1460:7912.6261\n",
      "Training loss at iteration 1480:7912.2470\n"
     ]
    }
   ],
   "source": [
    "iters = 1500\n",
    "lambda_ = 0.5\n",
    "\n",
    "for i in range(iters):\n",
    "    with tf.GradientTape() as tape:\n",
    "        J = cofi_cost_func_v(X, W, b, Y, R, lambda_)\n",
    "    gradients = tape.gradient(J, [X, W, b])\n",
    "    optimiser.apply_gradients(zip(gradients, [X, W, b]))\n",
    "    if i%20==0:\n",
    "        print(f\"Training loss at iteration {i}:{J:0.4f}\")"
   ]
  },
  {
   "cell_type": "code",
   "execution_count": 15,
   "id": "f2ec6316",
   "metadata": {},
   "outputs": [
    {
     "data": {
      "text/plain": [
       "5.699972963344608"
      ]
     },
     "execution_count": 15,
     "metadata": {},
     "output_type": "execute_result"
    }
   ],
   "source": [
    "P = np.matmul(X.numpy(), np.transpose(W.numpy())) + b.numpy()\n",
    "P_new = P + mean_ratings  # Adding the mean ratings back to the predictions\n",
    "P_new[0][np.argmax(P_new[0])]"
   ]
  },
  {
   "cell_type": "code",
   "execution_count": 16,
   "id": "6d515deb",
   "metadata": {},
   "outputs": [],
   "source": [
    "predictions = np.matmul(X.numpy(), np.transpose(W.numpy())) + b.numpy()\n",
    "predictions = predictions + mean_ratings  # Adding the mean ratings back to the predictions\n",
    "predictions = np.clip(predictions, 0, 5)\n",
    "my_predictions = predictions[:, 0] #Assuming the first user is the one we want to recommend movies for\n",
    "my_predictions = pd.Series(my_predictions, index=genres_df['movieId'])\n",
    "my_predictions = my_predictions.sort_values(ascending=False)"
   ]
  },
  {
   "cell_type": "code",
   "execution_count": 17,
   "id": "1d8aadb0",
   "metadata": {},
   "outputs": [
    {
     "name": "stdout",
     "output_type": "stream",
     "text": [
      "[4.24304894 3.80935433 3.72070743 ... 4.21088815 4.2108448  4.66457381]\n"
     ]
    }
   ],
   "source": [
    "print(predictions[:, 0])"
   ]
  },
  {
   "cell_type": "code",
   "execution_count": 18,
   "id": "54d76d12",
   "metadata": {},
   "outputs": [],
   "source": [
    "pred_df = pd.DataFrame({\n",
    "    'movieId': my_predictions.index,\n",
    "    'predicted_rating': my_predictions.values\n",
    "})\n",
    "\n",
    "pred_df = pd.merge(pred_df, movies[['movieId', 'title', 'genres']], on='movieId', how='left')\n"
   ]
  },
  {
   "cell_type": "code",
   "execution_count": 19,
   "id": "808e8425",
   "metadata": {},
   "outputs": [
    {
     "data": {
      "text/html": [
       "<div>\n",
       "<style scoped>\n",
       "    .dataframe tbody tr th:only-of-type {\n",
       "        vertical-align: middle;\n",
       "    }\n",
       "\n",
       "    .dataframe tbody tr th {\n",
       "        vertical-align: top;\n",
       "    }\n",
       "\n",
       "    .dataframe thead th {\n",
       "        text-align: right;\n",
       "    }\n",
       "</style>\n",
       "<table border=\"1\" class=\"dataframe\">\n",
       "  <thead>\n",
       "    <tr style=\"text-align: right;\">\n",
       "      <th></th>\n",
       "      <th>movieId</th>\n",
       "      <th>predicted_rating</th>\n",
       "      <th>title</th>\n",
       "      <th>genres</th>\n",
       "    </tr>\n",
       "  </thead>\n",
       "  <tbody>\n",
       "    <tr>\n",
       "      <th>0</th>\n",
       "      <td>3983</td>\n",
       "      <td>5.000000</td>\n",
       "      <td>You Can Count on Me (2000)</td>\n",
       "      <td>Drama|Romance</td>\n",
       "    </tr>\n",
       "    <tr>\n",
       "      <th>1</th>\n",
       "      <td>27320</td>\n",
       "      <td>5.000000</td>\n",
       "      <td>Nine Lives of Tomas Katz, The (2000)</td>\n",
       "      <td>Comedy|Drama|Fantasy</td>\n",
       "    </tr>\n",
       "    <tr>\n",
       "      <th>2</th>\n",
       "      <td>92475</td>\n",
       "      <td>5.000000</td>\n",
       "      <td>All Watched Over by Machines of Loving Grace (...</td>\n",
       "      <td>Documentary</td>\n",
       "    </tr>\n",
       "    <tr>\n",
       "      <th>3</th>\n",
       "      <td>92494</td>\n",
       "      <td>5.000000</td>\n",
       "      <td>Dylan Moran: Monster (2004)</td>\n",
       "      <td>Comedy|Documentary</td>\n",
       "    </tr>\n",
       "    <tr>\n",
       "      <th>4</th>\n",
       "      <td>92694</td>\n",
       "      <td>5.000000</td>\n",
       "      <td>Perfect Sense (2011)</td>\n",
       "      <td>Drama|Romance|Sci-Fi</td>\n",
       "    </tr>\n",
       "    <tr>\n",
       "      <th>...</th>\n",
       "      <td>...</td>\n",
       "      <td>...</td>\n",
       "      <td>...</td>\n",
       "      <td>...</td>\n",
       "    </tr>\n",
       "    <tr>\n",
       "      <th>9737</th>\n",
       "      <td>8765</td>\n",
       "      <td>0.684953</td>\n",
       "      <td>This Gun for Hire (1942)</td>\n",
       "      <td>Crime|Film-Noir|Thriller</td>\n",
       "    </tr>\n",
       "    <tr>\n",
       "      <th>9738</th>\n",
       "      <td>6668</td>\n",
       "      <td>0.684937</td>\n",
       "      <td>Road Home, The (Wo de fu qin mu qin) (1999)</td>\n",
       "      <td>Drama|Romance</td>\n",
       "    </tr>\n",
       "    <tr>\n",
       "      <th>9739</th>\n",
       "      <td>32160</td>\n",
       "      <td>0.684362</td>\n",
       "      <td>Twentieth Century (1934)</td>\n",
       "      <td>Comedy</td>\n",
       "    </tr>\n",
       "    <tr>\n",
       "      <th>9740</th>\n",
       "      <td>1407</td>\n",
       "      <td>0.655110</td>\n",
       "      <td>Scream (1996)</td>\n",
       "      <td>Comedy|Horror|Mystery|Thriller</td>\n",
       "    </tr>\n",
       "    <tr>\n",
       "      <th>9741</th>\n",
       "      <td>2053</td>\n",
       "      <td>0.641973</td>\n",
       "      <td>Honey, I Blew Up the Kid (1992)</td>\n",
       "      <td>Children|Comedy|Sci-Fi</td>\n",
       "    </tr>\n",
       "  </tbody>\n",
       "</table>\n",
       "<p>9742 rows × 4 columns</p>\n",
       "</div>"
      ],
      "text/plain": [
       "      movieId  predicted_rating  \\\n",
       "0        3983          5.000000   \n",
       "1       27320          5.000000   \n",
       "2       92475          5.000000   \n",
       "3       92494          5.000000   \n",
       "4       92694          5.000000   \n",
       "...       ...               ...   \n",
       "9737     8765          0.684953   \n",
       "9738     6668          0.684937   \n",
       "9739    32160          0.684362   \n",
       "9740     1407          0.655110   \n",
       "9741     2053          0.641973   \n",
       "\n",
       "                                                  title  \\\n",
       "0                            You Can Count on Me (2000)   \n",
       "1                  Nine Lives of Tomas Katz, The (2000)   \n",
       "2     All Watched Over by Machines of Loving Grace (...   \n",
       "3                           Dylan Moran: Monster (2004)   \n",
       "4                                  Perfect Sense (2011)   \n",
       "...                                                 ...   \n",
       "9737                           This Gun for Hire (1942)   \n",
       "9738        Road Home, The (Wo de fu qin mu qin) (1999)   \n",
       "9739                           Twentieth Century (1934)   \n",
       "9740                                      Scream (1996)   \n",
       "9741                    Honey, I Blew Up the Kid (1992)   \n",
       "\n",
       "                              genres  \n",
       "0                      Drama|Romance  \n",
       "1               Comedy|Drama|Fantasy  \n",
       "2                        Documentary  \n",
       "3                 Comedy|Documentary  \n",
       "4               Drama|Romance|Sci-Fi  \n",
       "...                              ...  \n",
       "9737        Crime|Film-Noir|Thriller  \n",
       "9738                   Drama|Romance  \n",
       "9739                          Comedy  \n",
       "9740  Comedy|Horror|Mystery|Thriller  \n",
       "9741          Children|Comedy|Sci-Fi  \n",
       "\n",
       "[9742 rows x 4 columns]"
      ]
     },
     "execution_count": 19,
     "metadata": {},
     "output_type": "execute_result"
    }
   ],
   "source": [
    "pred_df"
   ]
  },
  {
   "cell_type": "code",
   "execution_count": 20,
   "id": "71a09560",
   "metadata": {},
   "outputs": [],
   "source": [
    "mean_ratings_df= pd.DataFrame({\n",
    "    'movieId': genres_df['movieId'],\n",
    "    'mean_rating': mean_ratings.flatten()\n",
    "})"
   ]
  },
  {
   "cell_type": "code",
   "execution_count": 21,
   "id": "67a6393e",
   "metadata": {},
   "outputs": [],
   "source": [
    "user_id = 1  # or whichever user you're evaluating\n",
    "user_ratings = ratings[ratings['userId'] == user_id][['movieId', 'rating']]\n",
    "user_ratings = user_ratings.rename(columns={'rating': 'actual_rating'})\n",
    "# Merge with predictions\n",
    "pred_df = pd.merge(pred_df, user_ratings, on='movieId', how='left')\n",
    "# Merge with mean ratings\n",
    "pred_df = pd.merge(pred_df, mean_ratings_df, on='movieId', how='left')\n",
    "# Sort predictions\n",
    "pred_df = pred_df.sort_values(by='predicted_rating', ascending=False)"
   ]
  },
  {
   "cell_type": "code",
   "execution_count": 22,
   "id": "81828158",
   "metadata": {},
   "outputs": [
    {
     "data": {
      "text/html": [
       "<div>\n",
       "<style scoped>\n",
       "    .dataframe tbody tr th:only-of-type {\n",
       "        vertical-align: middle;\n",
       "    }\n",
       "\n",
       "    .dataframe tbody tr th {\n",
       "        vertical-align: top;\n",
       "    }\n",
       "\n",
       "    .dataframe thead th {\n",
       "        text-align: right;\n",
       "    }\n",
       "</style>\n",
       "<table border=\"1\" class=\"dataframe\">\n",
       "  <thead>\n",
       "    <tr style=\"text-align: right;\">\n",
       "      <th></th>\n",
       "      <th>movieId</th>\n",
       "      <th>predicted_rating</th>\n",
       "      <th>title</th>\n",
       "      <th>genres</th>\n",
       "      <th>actual_rating</th>\n",
       "      <th>mean_rating</th>\n",
       "    </tr>\n",
       "  </thead>\n",
       "  <tbody>\n",
       "    <tr>\n",
       "      <th>0</th>\n",
       "      <td>3983</td>\n",
       "      <td>5.000000</td>\n",
       "      <td>You Can Count on Me (2000)</td>\n",
       "      <td>Drama|Romance</td>\n",
       "      <td>NaN</td>\n",
       "      <td>4.166667</td>\n",
       "    </tr>\n",
       "    <tr>\n",
       "      <th>839</th>\n",
       "      <td>131098</td>\n",
       "      <td>5.000000</td>\n",
       "      <td>Saving Santa (2013)</td>\n",
       "      <td>Animation|Children|Comedy</td>\n",
       "      <td>NaN</td>\n",
       "      <td>5.000000</td>\n",
       "    </tr>\n",
       "    <tr>\n",
       "      <th>846</th>\n",
       "      <td>5404</td>\n",
       "      <td>5.000000</td>\n",
       "      <td>84 Charing Cross Road (1987)</td>\n",
       "      <td>Drama|Romance</td>\n",
       "      <td>NaN</td>\n",
       "      <td>4.500000</td>\n",
       "    </tr>\n",
       "    <tr>\n",
       "      <th>845</th>\n",
       "      <td>172589</td>\n",
       "      <td>5.000000</td>\n",
       "      <td>Winter in Prostokvashino (1984)</td>\n",
       "      <td>Animation</td>\n",
       "      <td>NaN</td>\n",
       "      <td>5.000000</td>\n",
       "    </tr>\n",
       "    <tr>\n",
       "      <th>844</th>\n",
       "      <td>172587</td>\n",
       "      <td>5.000000</td>\n",
       "      <td>Vacations in Prostokvashino (1980)</td>\n",
       "      <td>Animation</td>\n",
       "      <td>NaN</td>\n",
       "      <td>5.000000</td>\n",
       "    </tr>\n",
       "    <tr>\n",
       "      <th>...</th>\n",
       "      <td>...</td>\n",
       "      <td>...</td>\n",
       "      <td>...</td>\n",
       "      <td>...</td>\n",
       "      <td>...</td>\n",
       "      <td>...</td>\n",
       "    </tr>\n",
       "    <tr>\n",
       "      <th>9737</th>\n",
       "      <td>8765</td>\n",
       "      <td>0.684953</td>\n",
       "      <td>This Gun for Hire (1942)</td>\n",
       "      <td>Crime|Film-Noir|Thriller</td>\n",
       "      <td>NaN</td>\n",
       "      <td>0.000000</td>\n",
       "    </tr>\n",
       "    <tr>\n",
       "      <th>9738</th>\n",
       "      <td>6668</td>\n",
       "      <td>0.684937</td>\n",
       "      <td>Road Home, The (Wo de fu qin mu qin) (1999)</td>\n",
       "      <td>Drama|Romance</td>\n",
       "      <td>NaN</td>\n",
       "      <td>0.000000</td>\n",
       "    </tr>\n",
       "    <tr>\n",
       "      <th>9739</th>\n",
       "      <td>32160</td>\n",
       "      <td>0.684362</td>\n",
       "      <td>Twentieth Century (1934)</td>\n",
       "      <td>Comedy</td>\n",
       "      <td>NaN</td>\n",
       "      <td>0.000000</td>\n",
       "    </tr>\n",
       "    <tr>\n",
       "      <th>9740</th>\n",
       "      <td>1407</td>\n",
       "      <td>0.655110</td>\n",
       "      <td>Scream (1996)</td>\n",
       "      <td>Comedy|Horror|Mystery|Thriller</td>\n",
       "      <td>NaN</td>\n",
       "      <td>3.200000</td>\n",
       "    </tr>\n",
       "    <tr>\n",
       "      <th>9741</th>\n",
       "      <td>2053</td>\n",
       "      <td>0.641973</td>\n",
       "      <td>Honey, I Blew Up the Kid (1992)</td>\n",
       "      <td>Children|Comedy|Sci-Fi</td>\n",
       "      <td>NaN</td>\n",
       "      <td>2.050000</td>\n",
       "    </tr>\n",
       "  </tbody>\n",
       "</table>\n",
       "<p>9742 rows × 6 columns</p>\n",
       "</div>"
      ],
      "text/plain": [
       "      movieId  predicted_rating                                        title  \\\n",
       "0        3983          5.000000                   You Can Count on Me (2000)   \n",
       "839    131098          5.000000                          Saving Santa (2013)   \n",
       "846      5404          5.000000                 84 Charing Cross Road (1987)   \n",
       "845    172589          5.000000              Winter in Prostokvashino (1984)   \n",
       "844    172587          5.000000           Vacations in Prostokvashino (1980)   \n",
       "...       ...               ...                                          ...   \n",
       "9737     8765          0.684953                     This Gun for Hire (1942)   \n",
       "9738     6668          0.684937  Road Home, The (Wo de fu qin mu qin) (1999)   \n",
       "9739    32160          0.684362                     Twentieth Century (1934)   \n",
       "9740     1407          0.655110                                Scream (1996)   \n",
       "9741     2053          0.641973              Honey, I Blew Up the Kid (1992)   \n",
       "\n",
       "                              genres  actual_rating  mean_rating  \n",
       "0                      Drama|Romance            NaN     4.166667  \n",
       "839        Animation|Children|Comedy            NaN     5.000000  \n",
       "846                    Drama|Romance            NaN     4.500000  \n",
       "845                        Animation            NaN     5.000000  \n",
       "844                        Animation            NaN     5.000000  \n",
       "...                              ...            ...          ...  \n",
       "9737        Crime|Film-Noir|Thriller            NaN     0.000000  \n",
       "9738                   Drama|Romance            NaN     0.000000  \n",
       "9739                          Comedy            NaN     0.000000  \n",
       "9740  Comedy|Horror|Mystery|Thriller            NaN     3.200000  \n",
       "9741          Children|Comedy|Sci-Fi            NaN     2.050000  \n",
       "\n",
       "[9742 rows x 6 columns]"
      ]
     },
     "execution_count": 22,
     "metadata": {},
     "output_type": "execute_result"
    }
   ],
   "source": [
    "pred_df"
   ]
  },
  {
   "cell_type": "code",
   "execution_count": 23,
   "id": "135fda5a",
   "metadata": {},
   "outputs": [
    {
     "name": "stdout",
     "output_type": "stream",
     "text": [
      "Top 20 movie recommendations for the first user:\n",
      "1. ID: 3983       Title: You Can Count on Me (2000)                                   Genre: Drama|Romance                            Predicted: 5.00 MEAN_RATING: 4.166666666666667                       \n",
      "2. ID: 131098     Title: Saving Santa (2013)                                          Genre: Animation|Children|Comedy                Predicted: 5.00 MEAN_RATING: 5.0                                     \n",
      "3. ID: 5404       Title: 84 Charing Cross Road (1987)                                 Genre: Drama|Romance                            Predicted: 5.00 MEAN_RATING: 4.5                                     \n",
      "4. ID: 172589     Title: Winter in Prostokvashino (1984)                              Genre: Animation                                Predicted: 5.00 MEAN_RATING: 5.0                                     \n",
      "5. ID: 172587     Title: Vacations in Prostokvashino (1980)                           Genre: Animation                                Predicted: 5.00 MEAN_RATING: 5.0                                     \n",
      "6. ID: 130978     Title: Love and Pigeons (1985)                                      Genre: Comedy|Romance                           Predicted: 5.00 MEAN_RATING: 5.0                                     \n",
      "7. ID: 172585     Title: Karlson Returns (1970)                                       Genre: Adventure|Animation|Children             Predicted: 5.00 MEAN_RATING: 5.0                                     \n",
      "8. ID: 131023     Title: That Sugar Film (2014)                                       Genre: Documentary                              Predicted: 5.00 MEAN_RATING: 4.5                                     \n",
      "9. ID: 3836       Title: Kelly's Heroes (1970)                                        Genre: Action|Comedy|War                        Predicted: 5.00 MEAN_RATING: 4.133333333333334                       \n",
      "10. ID: 131104     Title: The Brain (1969)                                             Genre: Comedy|Crime                             Predicted: 5.00 MEAN_RATING: 4.5                                     \n",
      "11. ID: 130976     Title: Legend No. 17 (2013)                                         Genre: Drama                                    Predicted: 5.00 MEAN_RATING: 4.5                                     \n",
      "12. ID: 141844     Title: 12 Chairs (1971)                                             Genre: Adventure|Comedy                         Predicted: 5.00 MEAN_RATING: 4.5                                     \n",
      "13. ID: 5603       Title: Lavender Hill Mob, The (1951)                                Genre: Comedy|Crime                             Predicted: 5.00 MEAN_RATING: 4.5                                     \n",
      "14. ID: 172583     Title: Investigation Held by Kolobki (1986)                         Genre: Animation                                Predicted: 5.00 MEAN_RATING: 5.0                                     \n",
      "15. ID: 172577     Title: Last Year's Snow Was Falling (1983)                          Genre: Animation|Children|Comedy|Fantasy        Predicted: 5.00 MEAN_RATING: 5.0                                     \n",
      "16. ID: 171917     Title: Mystère à la Tour Eiffel (2015)                              Genre: Drama|Mystery|Thriller                   Predicted: 5.00 MEAN_RATING: 4.5                                     \n",
      "17. ID: 4002       Title: Planes, Trains & Automobiles (1987)                          Genre: Comedy                                   Predicted: 5.00 MEAN_RATING: 3.8518518518518516                      \n",
      "18. ID: 5059       Title: Little Dieter Needs to Fly (1997)                            Genre: Documentary                              Predicted: 5.00 MEAN_RATING: 5.0                                     \n",
      "19. ID: 160289     Title: O.J.: Made in America (2016)                                 Genre: Documentary                              Predicted: 5.00 MEAN_RATING: 4.5                                     \n",
      "20. ID: 172591     Title: The Godfather Trilogy: 1972-1990 (1992)                      Genre: (no genres listed)                       Predicted: 5.00 MEAN_RATING: 4.75                                    \n"
     ]
    }
   ],
   "source": [
    "print(\"Top 20 movie recommendations for the first user:\")\n",
    "for i in range(20):\n",
    "    movie_id = pred_df['movieId'].iloc[i]\n",
    "    title = pred_df['title'].iloc[i]\n",
    "    genres = pred_df['genres'].iloc[i]\n",
    "    pred = pred_df['predicted_rating'].iloc[i]\n",
    "    mean = pred_df['mean_rating'].iloc[i] if not pd.isna(pred_df['mean_rating'].iloc[i]) else 'N/A'\n",
    "\n",
    "    print(f\"{i+1}. ID: {movie_id:<10} Title: {title:<60} Genre: {genres:<40} Predicted: {pred:.2f} MEAN_RATING: {mean:<40}\")\n",
    "    "
   ]
  },
  {
   "cell_type": "code",
   "execution_count": 24,
   "id": "dda050e9",
   "metadata": {},
   "outputs": [],
   "source": [
    "new_user = np.zeros((X.shape[0], 1), dtype=np.float64)\n",
    "# Assuming new_user is a vector of zeros, we can use the same prediction logic\n",
    "R_new = np.concatenate((R, new_user), axis = 1)"
   ]
  },
  {
   "cell_type": "code",
   "execution_count": 25,
   "id": "33d2dc67",
   "metadata": {},
   "outputs": [],
   "source": [
    "W_new = tf.Variable(tf.random.normal(shape=(1,k), dtype=tf.float64))\n",
    "W_new = np.concatenate((W, W_new), axis=0)"
   ]
  },
  {
   "cell_type": "code",
   "execution_count": 26,
   "id": "6e6a771e",
   "metadata": {},
   "outputs": [],
   "source": [
    "b_new = tf.Variable(tf.zeros(shape=(1, 1), dtype=tf.float64))\n",
    "b_new = tf.concat((b, b_new), axis=1)"
   ]
  },
  {
   "cell_type": "code",
   "execution_count": 27,
   "id": "67b28dcd",
   "metadata": {},
   "outputs": [
    {
     "data": {
      "text/plain": [
       "(9742, 1)"
      ]
     },
     "execution_count": 27,
     "metadata": {},
     "output_type": "execute_result"
    }
   ],
   "source": [
    "mean_ratings_new = np.nan_to_num(mean_ratings, copy=False, nan=0.0)\n",
    "mean_ratings_new.shape"
   ]
  },
  {
   "cell_type": "code",
   "execution_count": 28,
   "id": "6f71e15d",
   "metadata": {},
   "outputs": [],
   "source": [
    "new_Pred = (tf.linalg.matmul(X, tf.transpose(W_new))+b_new)*R_new + mean_ratings_new"
   ]
  },
  {
   "cell_type": "code",
   "execution_count": 29,
   "id": "544cd31f",
   "metadata": {},
   "outputs": [
    {
     "data": {
      "text/plain": [
       "TensorShape([9742, 611])"
      ]
     },
     "execution_count": 29,
     "metadata": {},
     "output_type": "execute_result"
    }
   ],
   "source": [
    "new_Pred.shape"
   ]
  },
  {
   "cell_type": "code",
   "execution_count": 30,
   "id": "3733107a",
   "metadata": {},
   "outputs": [
    {
     "name": "stdout",
     "output_type": "stream",
     "text": [
      "Top 20 movie recommendations for the new user with no ratings:\n",
      "1. ID: 88448      Title: Paper Birds (Pájaros de papel) (2010)                                            Genre: Action, Adventure, Animation, Children, Comedy, Crime, Documentary, Drama, Fantasy, Film-Noir, Horror, IMAX, Musical, Mystery, Romance, Sci-Fi, Thriller, War, Western Predicted Rating: 5.00 MEAN_RATING: 4.166666666666667                       \n",
      "2. ID: 3795       Title: Five Senses, The (1999)                                                          Genre: Action, Adventure, Animation, Children, Comedy, Crime, Documentary, Drama, Fantasy, Film-Noir, Horror, IMAX, Musical, Mystery, Romance, Sci-Fi, Thriller, War, Western Predicted Rating: 5.00 MEAN_RATING: 5.0                                     \n",
      "3. ID: 138966     Title: Nasu: Summer in Andalusia (2003)                                                 Genre: Action, Adventure, Animation, Children, Comedy, Crime, Documentary, Drama, Fantasy, Film-Noir, Horror, IMAX, Musical, Mystery, Romance, Sci-Fi, Thriller, War, Western Predicted Rating: 5.00 MEAN_RATING: 4.5                                     \n",
      "4. ID: 1310       Title: Hype! (1996)                                                                     Genre: Action, Adventure, Animation, Children, Comedy, Crime, Documentary, Drama, Fantasy, Film-Noir, Horror, IMAX, Musical, Mystery, Romance, Sci-Fi, Thriller, War, Western Predicted Rating: 5.00 MEAN_RATING: 5.0                                     \n",
      "5. ID: 139640     Title: Ooops! Noah is Gone... (2015)                                                    Genre: Action, Adventure, Animation, Children, Comedy, Crime, Documentary, Drama, Fantasy, Film-Noir, Horror, IMAX, Musical, Mystery, Romance, Sci-Fi, Thriller, War, Western Predicted Rating: 5.00 MEAN_RATING: 5.0                                     \n",
      "6. ID: 77846      Title: 12 Angry Men (1997)                                                              Genre: Action, Adventure, Animation, Children, Comedy, Crime, Documentary, Drama, Fantasy, Film-Noir, Horror, IMAX, Musical, Mystery, Romance, Sci-Fi, Thriller, War, Western Predicted Rating: 5.00 MEAN_RATING: 5.0                                     \n",
      "7. ID: 140133     Title: Hollywood Chainsaw Hookers (1988)                                                Genre: Action, Adventure, Animation, Children, Comedy, Crime, Documentary, Drama, Fantasy, Film-Noir, Horror, IMAX, Musical, Mystery, Romance, Sci-Fi, Thriller, War, Western Predicted Rating: 5.00 MEAN_RATING: 5.0                                     \n",
      "8. ID: 140265     Title: George Carlin: Jammin' in New York (1992)                                        Genre: Action, Adventure, Animation, Children, Comedy, Crime, Documentary, Drama, Fantasy, Film-Noir, Horror, IMAX, Musical, Mystery, Romance, Sci-Fi, Thriller, War, Western Predicted Rating: 5.00 MEAN_RATING: 4.5                                     \n",
      "9. ID: 76091      Title: Mother (Madeo) (2009)                                                            Genre: Action, Adventure, Animation, Children, Comedy, Crime, Documentary, Drama, Fantasy, Film-Noir, Horror, IMAX, Musical, Mystery, Romance, Sci-Fi, Thriller, War, Western Predicted Rating: 5.00 MEAN_RATING: 4.133333333333334                       \n",
      "10. ID: 5888       Title: Brother (Brat) (1997)                                                            Genre: Action, Adventure, Animation, Children, Comedy, Crime, Documentary, Drama, Fantasy, Film-Noir, Horror, IMAX, Musical, Mystery, Romance, Sci-Fi, Thriller, War, Western Predicted Rating: 5.00 MEAN_RATING: 4.5                                     \n",
      "11. ID: 140627     Title: Battle For Sevastopol (2015)                                                     Genre: Action, Adventure, Animation, Children, Comedy, Crime, Documentary, Drama, Fantasy, Film-Noir, Horror, IMAX, Musical, Mystery, Romance, Sci-Fi, Thriller, War, Western Predicted Rating: 5.00 MEAN_RATING: 4.5                                     \n",
      "12. ID: 5889       Title: Cruel Romance, A (Zhestokij Romans) (1984)                                       Genre: Action, Adventure, Animation, Children, Comedy, Crime, Documentary, Drama, Fantasy, Film-Noir, Horror, IMAX, Musical, Mystery, Romance, Sci-Fi, Thriller, War, Western Predicted Rating: 5.00 MEAN_RATING: 4.5                                     \n",
      "13. ID: 141718     Title: Deathgasm (2015)                                                                 Genre: Action, Adventure, Animation, Children, Comedy, Crime, Documentary, Drama, Fantasy, Film-Noir, Horror, IMAX, Musical, Mystery, Romance, Sci-Fi, Thriller, War, Western Predicted Rating: 5.00 MEAN_RATING: 4.5                                     \n",
      "14. ID: 5607       Title: Son of the Bride (Hijo de la novia, El) (2001)                                   Genre: Action, Adventure, Animation, Children, Comedy, Crime, Documentary, Drama, Fantasy, Film-Noir, Horror, IMAX, Musical, Mystery, Romance, Sci-Fi, Thriller, War, Western Predicted Rating: 5.00 MEAN_RATING: 5.0                                     \n",
      "15. ID: 141816     Title: 12 Chairs (1976)                                                                 Genre: Action, Adventure, Animation, Children, Comedy, Crime, Documentary, Drama, Fantasy, Film-Noir, Horror, IMAX, Musical, Mystery, Romance, Sci-Fi, Thriller, War, Western Predicted Rating: 5.00 MEAN_RATING: 5.0                                     \n",
      "16. ID: 3792       Title: Duel in the Sun (1946)                                                           Genre: Action, Adventure, Animation, Children, Comedy, Crime, Documentary, Drama, Fantasy, Film-Noir, Horror, IMAX, Musical, Mystery, Romance, Sci-Fi, Thriller, War, Western Predicted Rating: 5.00 MEAN_RATING: 4.5                                     \n",
      "17. ID: 1349       Title: Vampire in Venice (Nosferatu a Venezia) (Nosferatu in Venice) (1986)             Genre: Action, Adventure, Animation, Children, Comedy, Crime, Documentary, Drama, Fantasy, Film-Noir, Horror, IMAX, Musical, Mystery, Romance, Sci-Fi, Thriller, War, Western Predicted Rating: 5.00 MEAN_RATING: 3.8518518518518516                      \n",
      "18. ID: 74226      Title: Dream of Light (a.k.a. Quince Tree Sun, The) (Sol del membrillo, El) (1992)      Genre: Action, Adventure, Animation, Children, Comedy, Crime, Documentary, Drama, Fantasy, Film-Noir, Horror, IMAX, Musical, Mystery, Romance, Sci-Fi, Thriller, War, Western Predicted Rating: 5.00 MEAN_RATING: 5.0                                     \n",
      "19. ID: 141928     Title: Bloodsucking Bastards (2015)                                                     Genre: Action, Adventure, Animation, Children, Comedy, Crime, Documentary, Drama, Fantasy, Film-Noir, Horror, IMAX, Musical, Mystery, Romance, Sci-Fi, Thriller, War, Western Predicted Rating: 5.00 MEAN_RATING: 4.5                                     \n",
      "20. ID: 142020     Title: Oscar (1967)                                                                     Genre: Action, Adventure, Animation, Children, Comedy, Crime, Documentary, Drama, Fantasy, Film-Noir, Horror, IMAX, Musical, Mystery, Romance, Sci-Fi, Thriller, War, Western Predicted Rating: 5.00 MEAN_RATING: 4.75                                    \n"
     ]
    }
   ],
   "source": [
    "new_user_pred = new_Pred[:, -1]\n",
    "new_user_pred = pd.Series(new_user_pred, index=genres_df['movieId'])\n",
    "new_user_pred = new_user_pred.sort_values(ascending=False)\n",
    "print(\"Top 20 movie recommendations for the new user with no ratings:\")\n",
    "for i in range(20):\n",
    "    movie_id = new_user_pred.index[i]\n",
    "    pred_rating = new_user_pred.iloc[i]\n",
    "    title = movies[movies['movieId'] == movie_id]['title'].values[0] if not movies[movies['movieId'] == movie_id].empty else 'Unknown Title'\n",
    "    genres = genres_df[genres_df['movieId'] == movie_id].drop(columns='movieId').columns.tolist()\n",
    "    mean = pred_df['mean_rating'].iloc[i] if not pd.isna(pred_df['mean_rating'].iloc[i]) else 'N/A'\n",
    "\n",
    "    print(f\"{i+1}. ID: {movie_id:<10} Title: {title:<80} Genre: {', '.join(genres):<60} Predicted Rating: {pred_rating:.2f} MEAN_RATING: {mean:<40}\")"
   ]
  },
  {
   "cell_type": "code",
   "execution_count": null,
   "id": "e86cc883",
   "metadata": {},
   "outputs": [],
   "source": []
  }
 ],
 "metadata": {
  "kernelspec": {
   "display_name": "py310",
   "language": "python",
   "name": "python3"
  },
  "language_info": {
   "codemirror_mode": {
    "name": "ipython",
    "version": 3
   },
   "file_extension": ".py",
   "mimetype": "text/x-python",
   "name": "python",
   "nbconvert_exporter": "python",
   "pygments_lexer": "ipython3",
   "version": "3.10.16"
  }
 },
 "nbformat": 4,
 "nbformat_minor": 5
}
