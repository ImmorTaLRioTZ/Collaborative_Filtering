{
 "cells": [
  {
   "cell_type": "code",
   "execution_count": 12,
   "id": "81664ab6",
   "metadata": {},
   "outputs": [],
   "source": [
    "import pandas as pd\n",
    "import numpy as np\n",
    "import tensorflow as tf"
   ]
  },
  {
   "cell_type": "code",
   "execution_count": 13,
   "id": "b3bd023e",
   "metadata": {},
   "outputs": [],
   "source": [
    "movies = pd.read_csv(r'movies.csv')\n",
    "ratings = pd.read_csv(r'ratings.csv')"
   ]
  },
  {
   "cell_type": "code",
   "execution_count": 14,
   "id": "1cd0ebc1",
   "metadata": {},
   "outputs": [
    {
     "name": "stdout",
     "output_type": "stream",
     "text": [
      "610 9742\n"
     ]
    }
   ],
   "source": [
    "nu = len(ratings['userId'].unique())#number of unique users\n",
    "nm = len(movies['movieId'].unique())#number of unique movies\n",
    "print(nu, nm)"
   ]
  },
  {
   "cell_type": "code",
   "execution_count": 15,
   "id": "d956c6c3",
   "metadata": {},
   "outputs": [],
   "source": [
    "# Step 1: Get full list of movieIds\n",
    "all_movie_ids = movies['movieId'].unique()\n",
    "\n",
    "# Step 2: Pivot ratings\n",
    "rates = ratings.pivot(index='movieId', columns='userId', values='rating')\n",
    "\n",
    "# Step 3: Reindex to include all movieIds (adds NaNs for missing movies)\n",
    "rates = rates.reindex(all_movie_ids)\n",
    "\n",
    "# Optional: reset index (so movieId is a column)\n",
    "rates = rates.reset_index()\n",
    "\n",
    "# Step 2: Add genre columns (get dummies) from movies\n",
    "genres = movies[['movieId', 'genres']].copy()\n",
    "genre_dummies = genres['genres'].str.get_dummies(sep='|')\n",
    "genre_dummies = genre_dummies.drop(columns=['(no genres listed)'], errors='ignore')  # skip if not present\n",
    "\n",
    "# Combine movieId with genre columns\n",
    "genres_df = pd.concat([genres['movieId'], genre_dummies], axis=1)\n",
    "\n",
    "# Step 3: Merge with the pivoted ratings\n",
    "final_df = pd.merge(rates.reset_index(), genres_df, on='movieId')"
   ]
  },
  {
   "cell_type": "code",
   "execution_count": null,
   "id": "231c3e91",
   "metadata": {},
   "outputs": [],
   "source": [
    "try:\n",
    "    final_df.to_csv(r'rates.csv', index=False)\n",
    "except:\n",
    "    print(\"Already exists, skipping save. If you want to overwrite, delete rates.csv first.\")"
   ]
  },
  {
   "cell_type": "code",
   "execution_count": null,
   "id": "96d28853",
   "metadata": {},
   "outputs": [],
   "source": []
  }
 ],
 "metadata": {
  "kernelspec": {
   "display_name": "py310",
   "language": "python",
   "name": "python3"
  },
  "language_info": {
   "codemirror_mode": {
    "name": "ipython",
    "version": 3
   },
   "file_extension": ".py",
   "mimetype": "text/x-python",
   "name": "python",
   "nbconvert_exporter": "python",
   "pygments_lexer": "ipython3",
   "version": "3.10.16"
  }
 },
 "nbformat": 4,
 "nbformat_minor": 5
}
